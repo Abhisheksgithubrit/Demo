{
 "cells": [
  {
   "cell_type": "code",
   "execution_count": 1,
   "metadata": {},
   "outputs": [],
   "source": [
    "file = open(\"example.txt\",\"r\")\n"
   ]
  },
  {
   "cell_type": "code",
   "execution_count": 12,
   "metadata": {},
   "outputs": [
    {
     "name": "stdout",
     "output_type": "stream",
     "text": [
      "Python Use Cases\n",
      "\n",
      "\n",
      "\n",
      "Creating web applications on a server\n",
      "\n",
      "Building workflows that can be used in conjunction with software\n",
      "\n",
      "Connecting to database systems\n",
      "\n",
      "Reading and modifying files\n",
      "\n",
      "Performing complex mathematics\n",
      "\n",
      "Processing big data\n",
      "\n",
      "Fast prototyping\n",
      "\n",
      "Developing production-ready software\n"
     ]
    }
   ],
   "source": [
    "file = open(\"example.txt\",\"r\") #reads the entire content of the file as a single string\n",
    "for line in file: \n",
    "    print(line)\n",
    "file.close()"
   ]
  },
  {
   "cell_type": "code",
   "execution_count": 13,
   "metadata": {},
   "outputs": [],
   "source": [
    "file = open(\"example1.txt\",\"w\") #overwriting the existing file\n",
    "file.write(\"welcome to the python with sathya!\")\n",
    "file.close()"
   ]
  },
  {
   "cell_type": "code",
   "execution_count": 1,
   "metadata": {},
   "outputs": [],
   "source": [
    "file = open(\"example1.txt\",\"a\") #appending a line in existing file\n",
    "file.write(\"\\n welcome to the python sesssion with sathya and chandu\")\n",
    "file.close()\n"
   ]
  },
  {
   "cell_type": "code",
   "execution_count": null,
   "metadata": {},
   "outputs": [],
   "source": []
  }
 ],
 "metadata": {
  "kernelspec": {
   "display_name": "Python 3",
   "language": "python",
   "name": "python3"
  },
  "language_info": {
   "codemirror_mode": {
    "name": "ipython",
    "version": 3
   },
   "file_extension": ".py",
   "mimetype": "text/x-python",
   "name": "python",
   "nbconvert_exporter": "python",
   "pygments_lexer": "ipython3",
   "version": "3.12.1"
  }
 },
 "nbformat": 4,
 "nbformat_minor": 2
}
